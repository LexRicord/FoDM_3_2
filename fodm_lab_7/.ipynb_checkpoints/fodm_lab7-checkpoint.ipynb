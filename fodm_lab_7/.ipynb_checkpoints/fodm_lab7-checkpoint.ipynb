{
 "cells": [
  {
   "cell_type": "code",
   "execution_count": 8,
   "id": "7706a170",
   "metadata": {
    "collapsed": false,
    "jupyter": {
     "outputs_hidden": false
    },
    "tags": []
   },
   "outputs": [
    {
     "name": "stdout",
     "output_type": "stream",
     "text": [
      "Частоты признаков:\n",
      "{0: array([0, 1, 0, 2]), 1: array([2, 0, 2, 1])}\n",
      "BernoulliNB predict #1 ------\n",
      "[0]\n",
      "MultinomialNB predict #1 ------\n",
      "[3]\n",
      "GaussianNB predict #1 -----------\n",
      "[1]\n",
      "GaussianNB(clr_pf) predict #2\n",
      "[1]\n"
     ]
    }
   ],
   "source": [
    "import mglearn\n",
    "import sklearn\n",
    "import matplotlib.pyplot as plt\n",
    "import numpy as np\n",
    "from sklearn.naive_bayes import BernoulliNB\n",
    "from sklearn.naive_bayes import MultinomialNB\n",
    "from sklearn.naive_bayes import GaussianNB\n",
    "\n",
    "# Классификатор BernoulliNB\n",
    "\n",
    "X1 = np.array([[0, 1, 0, 1], [1, 0, 1, 1], [0, 0, 0, 1], [1, 0, 1, 0]])\n",
    "y1 = np.array([0, 1, 0, 1])\n",
    "\n",
    "counts = {}\n",
    "for label in np.unique(y1):\n",
    "    counts[label] = X1[y1 == label].sum(axis=0)\n",
    "print(\"Частоты признаков:\\n{}\".format(counts))\n",
    "\n",
    "clf = BernoulliNB()\n",
    "clf.fit(X1, y1)\n",
    "print(\"BernoulliNB predict #1 ------\")\n",
    "print(clf.predict(X1[2:3]))\n",
    "\n",
    "# Классификатор MultinomialNB\n",
    "\n",
    "rng = np.random.RandomState(1)\n",
    "X2 = rng.randint(5, size=(6, 100))\n",
    "y2 = np.array([1, 2, 3, 4, 5, 6])\n",
    "\n",
    "clf = MultinomialNB()\n",
    "clf.fit(X2, y2)\n",
    "\n",
    "print(\"MultinomialNB predict #1 ------\")\n",
    "print(clf.predict(X2[2:3]))\n",
    "\n",
    "# Классификатор GaussianNB\n",
    "\n",
    "X3 = np.array([[-1, -1], [-2, -1], [-3, -2], [1, 1], [2, 1], [3, 2]])\n",
    "Y3 = np.array([1, 1, 1, 2, 2, 2])\n",
    "\n",
    "clf = GaussianNB()\n",
    "clf.fit(X3, Y3)\n",
    "\n",
    "\n",
    "print(\"GaussianNB predict #1 -----------\")\n",
    "print(clf.predict([[-0.8, -1]]))\n",
    "\n",
    "clf_pf = GaussianNB()\n",
    "clf_pf.partial_fit(X3, Y3, np.unique(Y3))\n",
    "\n",
    "print(\"GaussianNB(clr_pf) predict #2\")\n",
    "print(clf_pf.predict([[-0.8, -1]]))"
   ]
  },
  {
   "cell_type": "code",
   "execution_count": null,
   "id": "c5e6e9d0-d457-4226-8057-5ba04a61a2b0",
   "metadata": {},
   "outputs": [],
   "source": []
  }
 ],
 "metadata": {
  "kernelspec": {
   "display_name": "Python 3 (ipykernel)",
   "language": "python",
   "name": "python3"
  },
  "language_info": {
   "codemirror_mode": {
    "name": "ipython",
    "version": 3
   },
   "file_extension": ".py",
   "mimetype": "text/x-python",
   "name": "python",
   "nbconvert_exporter": "python",
   "pygments_lexer": "ipython3",
   "version": "3.11.2"
  }
 },
 "nbformat": 4,
 "nbformat_minor": 5
}
